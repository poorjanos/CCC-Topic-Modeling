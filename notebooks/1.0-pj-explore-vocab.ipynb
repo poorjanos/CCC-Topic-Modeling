{
 "cells": [
  {
   "cell_type": "markdown",
   "metadata": {},
   "source": [
    "# Inspect and Clean Corpus Vocabulary"
   ]
  },
  {
   "cell_type": "code",
   "execution_count": 1,
   "metadata": {},
   "outputs": [],
   "source": [
    "import pandas as pd\n",
    "from pathlib import Path\n",
    "from collections import Counter\n",
    "from ipysheet import from_dataframe, to_dataframe"
   ]
  },
  {
   "cell_type": "markdown",
   "metadata": {},
   "source": [
    "### Load tokenized docs as pd.DataFrame"
   ]
  },
  {
   "cell_type": "code",
   "execution_count": 12,
   "metadata": {},
   "outputs": [],
   "source": [
    "path_to_data = Path('../data')\n",
    "df = pd.read_csv(path_to_data / 'processed' /'tokenized1gram_data.csv', converters={'tokenized_raw': eval})"
   ]
  },
  {
   "cell_type": "markdown",
   "metadata": {},
   "source": [
    "### Compute Word-Counts"
   ]
  },
  {
   "cell_type": "code",
   "execution_count": 13,
   "metadata": {},
   "outputs": [],
   "source": [
    "corpus = [word for row in df['tokenized_raw'] for word in row]\n",
    "corpus = sum(df['tokenized_raw'], [])\n",
    "word_count = Counter(corpus)\n",
    "most_common = pd.DataFrame(word_count.most_common(500), columns = ['token', 'count'])\n",
    "most_common['drop'] = 0"
   ]
  },
  {
   "cell_type": "markdown",
   "metadata": {},
   "source": [
    "### Identify extra stop-words not caught by Spacy"
   ]
  },
  {
   "cell_type": "code",
   "execution_count": 26,
   "metadata": {},
   "outputs": [],
   "source": [
    "#sheet = from_dataframe(most_common)\n",
    "#sheet"
   ]
  },
  {
   "cell_type": "code",
   "execution_count": 27,
   "metadata": {},
   "outputs": [],
   "source": [
    "to_drop = to_dataframe(sheet)\n",
    "to_drop = to_drop.loc[to_drop['drop'] == 1]"
   ]
  },
  {
   "cell_type": "code",
   "execution_count": 4,
   "metadata": {},
   "outputs": [],
   "source": [
    "extra_stops = pd.read_csv(path_to_data / 'processed' / 'extra_stops.csv')"
   ]
  },
  {
   "cell_type": "code",
   "execution_count": 24,
   "metadata": {},
   "outputs": [],
   "source": [
    "extended_extra_stops = pd.concat([extra_stops, to_drop], ignore_index = True)\n",
    "extended_extra_stops.to_csv(path_to_data / 'processed' / 'extra_stops.csv', index = False)"
   ]
  }
 ],
 "metadata": {
  "kernelspec": {
   "display_name": "Python 3",
   "language": "python",
   "name": "python3"
  },
  "language_info": {
   "codemirror_mode": {
    "name": "ipython",
    "version": 3
   },
   "file_extension": ".py",
   "mimetype": "text/x-python",
   "name": "python",
   "nbconvert_exporter": "python",
   "pygments_lexer": "ipython3",
   "version": "3.8.3"
  }
 },
 "nbformat": 4,
 "nbformat_minor": 4
}
