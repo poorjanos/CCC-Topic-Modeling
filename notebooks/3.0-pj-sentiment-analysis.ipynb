{
 "cells": [
  {
   "cell_type": "markdown",
   "metadata": {},
   "source": [
    "# Sentiment Analysis"
   ]
  },
  {
   "cell_type": "code",
   "execution_count": 78,
   "metadata": {},
   "outputs": [],
   "source": [
    "import warnings\n",
    "warnings.simplefilter('ignore')\n",
    "from pathlib import Path\n",
    "import numpy as np\n",
    "import pandas as pd\n",
    "from collections import Counter"
   ]
  },
  {
   "cell_type": "markdown",
   "metadata": {},
   "source": [
    "### Load dataset and sentiment dictionary"
   ]
  },
  {
   "cell_type": "code",
   "execution_count": 33,
   "metadata": {},
   "outputs": [],
   "source": [
    "path_to_data = Path('../data')\n",
    "df = pd.read_csv(path_to_data / 'processed' /'tokenized1gram_data.csv',\\\n",
    "                 converters={'tokenized_raw': eval, 'tokenized_mults': eval, 'tokenized_mults_extr': eval})\n",
    "sentiment =  pd.read_csv(path_to_data / 'processed' /'sentiment_dict.csv')"
   ]
  },
  {
   "cell_type": "markdown",
   "metadata": {},
   "source": [
    "### Clean sentiment dict from industry specific vocab"
   ]
  },
  {
   "cell_type": "code",
   "execution_count": 29,
   "metadata": {},
   "outputs": [],
   "source": [
    "neg = sentiment.iloc[0,1].split()\n",
    "pos = sentiment.iloc[1,1].split()"
   ]
  },
  {
   "cell_type": "code",
   "execution_count": 48,
   "metadata": {},
   "outputs": [],
   "source": [
    "def get_sentiment(doc, neg, pos):\n",
    "    '''\n",
    "    Returns negative and positive sentiment words from doc\n",
    "    '''\n",
    "    neg_words = [i for i in doc if i in neg]\n",
    "    pos_words = [i for i in doc if i in pos]\n",
    "    return neg_words, pos_words"
   ]
  },
  {
   "cell_type": "code",
   "execution_count": 49,
   "metadata": {},
   "outputs": [],
   "source": [
    "# Extract and inspect most common pos and neg words from corpus\n",
    "corpus = [l for l in df.tokenized_raw]\n",
    "flat_corpus = [item for sublist in corpus for item in sublist]\n",
    "words_neg, words_pos = get_sentiment(flat_corpus, neg, pos)\n",
    "count_neg = Counter(words_neg)\n",
    "count_pos = Counter(words_pos)\n",
    "#count_pos.most_common(100)"
   ]
  },
  {
   "cell_type": "code",
   "execution_count": 141,
   "metadata": {},
   "outputs": [],
   "source": [
    "# Define industry specific stop words \n",
    "stop_words = ['hátralék', 'hátralékos', 'esedékes', 'levon', 'törlés', 'megszűnik', 'ügy', 'töröl', 'megszűntet', 'terhel',\\\n",
    "              'díj', 'ajánlat', 'rendezett', 'kiegészítő', 'szeret', 'segít', 'segítség', 'felhatalmazás',\\\n",
    "             'kár', 'káros', 'károsult', 'ír', 'elhunyt', 'halál', 'meghal', 'köszön', 'köszönöm', 'elérhető',\\\n",
    "             'elérhetőség', 'érvényes', 'szép', 'rendelet', 'telek', 'kedvezmény', 'rögzít']"
   ]
  },
  {
   "cell_type": "code",
   "execution_count": 142,
   "metadata": {},
   "outputs": [],
   "source": [
    "neg_clean = [i for i in neg if i not in stop_words]\n",
    "pos_clean = [i for i in pos if i not in stop_words]"
   ]
  },
  {
   "cell_type": "code",
   "execution_count": 143,
   "metadata": {},
   "outputs": [
    {
     "data": {
      "text/plain": [
       "(7051, 7032, 2519, 2505)"
      ]
     },
     "execution_count": 143,
     "metadata": {},
     "output_type": "execute_result"
    }
   ],
   "source": [
    "len(neg), len(neg_clean), len(pos), len(pos_clean)"
   ]
  },
  {
   "cell_type": "markdown",
   "metadata": {},
   "source": [
    "### Compute sentiment"
   ]
  },
  {
   "cell_type": "code",
   "execution_count": 144,
   "metadata": {},
   "outputs": [],
   "source": [
    "df_sentiment = df[['file_name', 'text', 'tokenized_raw', 'tokenized_raw_cnt']]\n",
    "# Extract polarity and counts\n",
    "df_sentiment['neg_pos_words'] = df_sentiment['tokenized_raw'].apply(lambda doc: get_sentiment(doc, neg_clean, pos_clean))\n",
    "df_sentiment['neg_count'] = df_sentiment['neg_pos_words'].apply(lambda tup: len(tup[0]))\n",
    "df_sentiment['pos_count'] = df_sentiment['neg_pos_words'].apply(lambda tup: len(tup[1]))\n",
    "# Score based on neg-pos ration then logtransform for better interpretability\n",
    "df_sentiment['score'] = np.where((df_sentiment['neg_count'] > 0) & (df_sentiment['pos_count'] > 0),\\\n",
    "                                 df_sentiment['neg_count']/df_sentiment['pos_count'], \\\n",
    "                                np.where(df_sentiment['pos_count'] > 0, 1/df_sentiment['pos_count'],\\\n",
    "                                 df_sentiment['neg_count']))\n",
    "df_sentiment['sentiment'] = np.where(df_sentiment['score'] == 0, 0, -np.log(df_sentiment['score']))"
   ]
  },
  {
   "cell_type": "code",
   "execution_count": 149,
   "metadata": {},
   "outputs": [
    {
     "data": {
      "image/png": "[encoded data removed]",
      "text/plain": [
       "<Figure size 432x288 with 1 Axes>"
      ]
     },
     "metadata": {
      "image/png": {
       "height": 263,
       "width": 388
      },
      "needs_background": "light"
     },
     "output_type": "display_data"
    }
   ],
   "source": [
    "%matplotlib inline\n",
    "%config InlineBackend.figure_format='retina'\n",
    "from matplotlib import pyplot as plt\n",
    "df_sentiment.sentiment.plot.hist(title = 'Sentiment Polarity of Corpus (logscale)');"
   ]
  },
  {
   "cell_type": "code",
   "execution_count": 150,
   "metadata": {},
   "outputs": [],
   "source": [
    "# Save results\n",
    "path = Path.cwd().parent / 'data' / 'processed'\n",
    "df_sentiment.to_csv(path / 'doc_sentiment.csv')"
   ]
  }
 ],
 "metadata": {
  "kernelspec": {
   "display_name": "Python 3",
   "language": "python",
   "name": "python3"
  },
  "language_info": {
   "codemirror_mode": {
    "name": "ipython",
    "version": 3
   },
   "file_extension": ".py",
   "mimetype": "text/x-python",
   "name": "python",
   "nbconvert_exporter": "python",
   "pygments_lexer": "ipython3",
   "version": "3.8.3"
  }
 },
 "nbformat": 4,
 "nbformat_minor": 4
}
