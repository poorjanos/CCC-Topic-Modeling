{
 "cells": [
  {
   "cell_type": "markdown",
   "metadata": {},
   "source": [
    "# Inspect Corpus Vocabulary"
   ]
  },
  {
   "cell_type": "markdown",
   "metadata": {},
   "source": [
    "### Load tokenized docs as pd.DataFrame"
   ]
  },
  {
   "cell_type": "code",
   "execution_count": 2,
   "metadata": {},
   "outputs": [],
   "source": [
    "import pandas as pd\n",
    "from pathlib import Path\n",
    "\n",
    "path_to_data = Path('../data')\n",
    "df = pd.read_csv(path_to_data / 'processed' /'tokenized1gram_data.csv', converters={'tokenized': eval})"
   ]
  },
  {
   "cell_type": "markdown",
   "metadata": {},
   "source": [
    "### Compute Word-Counts"
   ]
  },
  {
   "cell_type": "code",
   "execution_count": 3,
   "metadata": {},
   "outputs": [],
   "source": [
    "from collections import Counter\n",
    "\n",
    "corpus = [word for row in df['tokenized'] for word in row]\n",
    "# corpus = sum(df['tokenized'], [])\n",
    "word_count = Counter(corpus)"
   ]
  },
  {
   "cell_type": "code",
   "execution_count": 4,
   "metadata": {},
   "outputs": [
    {
     "data": {
      "text/plain": [
       "[('tud', 4410),\n",
       " ('szerződés', 2915),\n",
       " ('ugye', 2247),\n",
       " ('köszön', 2242),\n",
       " ('kér', 2187),\n",
       " ('szép', 2042),\n",
       " ('biztosítás', 1870),\n",
       " ('mond', 1704),\n",
       " ('ön', 1661),\n",
       " ('díj', 1652),\n",
       " ('nap', 1509),\n",
       " ('lát', 1385),\n",
       " ('küld', 1371),\n",
       " ('fizet', 1304),\n",
       " ('ad', 1281),\n",
       " ('kap', 1279),\n",
       " ('rend', 1217),\n",
       " ('összeg', 1062),\n",
       " ('szeret', 1060),\n",
       " ('segíthet', 1046),\n",
       " ('cím', 986),\n",
       " ('fog', 981),\n",
       " ('csekk', 958),\n",
       " ('szám', 921),\n",
       " ('néz', 894),\n",
       " ('ért', 884),\n",
       " ('köszönöm', 882),\n",
       " ('miben', 863),\n",
       " ('hogyha', 846),\n",
       " ('email', 844)]"
      ]
     },
     "execution_count": 4,
     "metadata": {},
     "output_type": "execute_result"
    }
   ],
   "source": [
    "word_count.most_common(30)"
   ]
  },
  {
   "cell_type": "code",
   "execution_count": null,
   "metadata": {},
   "outputs": [],
   "source": []
  }
 ],
 "metadata": {
  "kernelspec": {
   "display_name": "Python 3",
   "language": "python",
   "name": "python3"
  },
  "language_info": {
   "codemirror_mode": {
    "name": "ipython",
    "version": 3
   },
   "file_extension": ".py",
   "mimetype": "text/x-python",
   "name": "python",
   "nbconvert_exporter": "python",
   "pygments_lexer": "ipython3",
   "version": "3.8.3"
  }
 },
 "nbformat": 4,
 "nbformat_minor": 4
}
